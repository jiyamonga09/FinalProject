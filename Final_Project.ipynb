{
 "cells": [
  {
   "cell_type": "code",
   "execution_count": 1,
   "id": "2096c69d-1ec1-4228-b9be-7ba2fa383035",
   "metadata": {},
   "outputs": [],
   "source": [
    "# Final Project"
   ]
  },
  {
   "cell_type": "code",
   "execution_count": 5,
   "id": "5ce70a72-030b-44fc-b2d2-971de517e9be",
   "metadata": {},
   "outputs": [],
   "source": [
    "## Introduction\n",
    "## This notebook provides an overview of data science languages, libraries, and tools, along with examples of arithmetic expressions.\n"
   ]
  },
  {
   "cell_type": "code",
   "execution_count": 9,
   "id": "32e10908-496a-41b1-88a6-580f9a5720ab",
   "metadata": {},
   "outputs": [],
   "source": [
    "## Data Science Languages\n",
    "## Python\n",
    "## R\n",
    "## SQL\n",
    "## Julia\n",
    "## Java\n"
   ]
  },
  {
   "cell_type": "code",
   "execution_count": 11,
   "id": "a17110cf-69b7-4115-aa5e-db9841a8e503",
   "metadata": {},
   "outputs": [],
   "source": [
    "## Data Science Libraries\n",
    "## Pandas\n",
    "## NumPy\n",
    "## Scikit-learn\n",
    "## TensorFlow\n",
    "## Matplotlib\n"
   ]
  },
  {
   "cell_type": "code",
   "execution_count": 13,
   "id": "33127f75-6839-4871-93b1-1a40fcaf10dd",
   "metadata": {},
   "outputs": [],
   "source": [
    "## Data Science Tools\n",
    "\n",
    "## | Tool          | Description                     |\n",
    "## |---------------|---------------------------------|\n",
    "## | Jupyter       | An open-source web application for creating notebooks. |\n",
    "## | RStudio       | An IDE for R programming.      |\n",
    "## | Apache Spark  | A unified analytics engine.     |\n",
    "## | Tableau       | A data visualization tool.      |\n"
   ]
  },
  {
   "cell_type": "code",
   "execution_count": 15,
   "id": "7082b30e-523c-459a-ac22-4ed6ccd6f579",
   "metadata": {},
   "outputs": [],
   "source": [
    "## Arithmetic Expression Examples\n",
    "## Here are some basic arithmetic operations.\n"
   ]
  },
  {
   "cell_type": "code",
   "execution_count": 17,
   "id": "7be27f7a-0acd-422a-9af4-e4e0e6834457",
   "metadata": {},
   "outputs": [
    {
     "data": {
      "text/plain": [
       "(50, 15)"
      ]
     },
     "execution_count": 17,
     "metadata": {},
     "output_type": "execute_result"
    }
   ],
   "source": [
    "# Multiplying and Adding Numbers\n",
    "a = 5\n",
    "b = 10\n",
    "multiplication = a * b\n",
    "addition = a + b\n",
    "\n",
    "multiplication, addition\n"
   ]
  },
  {
   "cell_type": "code",
   "execution_count": 19,
   "id": "a246b1a6-4f7d-40da-ac41-8fda76764a85",
   "metadata": {},
   "outputs": [
    {
     "data": {
      "text/plain": [
       "2.0"
      ]
     },
     "execution_count": 19,
     "metadata": {},
     "output_type": "execute_result"
    }
   ],
   "source": [
    "# Convert Minutes to Hours\n",
    "def minutes_to_hours(minutes):\n",
    "    return minutes / 60\n",
    "\n",
    "# Example usage\n",
    "minutes = 120\n",
    "hours = minutes_to_hours(minutes)\n",
    "hours\n"
   ]
  },
  {
   "cell_type": "code",
   "execution_count": 21,
   "id": "43efa6d1-44a4-4464-9277-aee69a3b88bd",
   "metadata": {},
   "outputs": [],
   "source": [
    "## Objectives\n",
    "## - Understand data science languages and libraries.\n",
    "## - Learn how to use Jupyter notebooks for data analysis.\n",
    "## - Implement basic arithmetic operations in Python.\n"
   ]
  },
  {
   "cell_type": "code",
   "execution_count": 25,
   "id": "3f69825e-021a-4eb2-85ca-1e277ab85fcd",
   "metadata": {},
   "outputs": [],
   "source": [
    "## Author\n",
    "## JIYA"
   ]
  },
  {
   "cell_type": "code",
   "execution_count": null,
   "id": "4b8315e5-e69c-45f7-85f9-b180d3597ad7",
   "metadata": {},
   "outputs": [],
   "source": []
  }
 ],
 "metadata": {
  "kernelspec": {
   "display_name": "Python 3 (ipykernel)",
   "language": "python",
   "name": "python3"
  },
  "language_info": {
   "codemirror_mode": {
    "name": "ipython",
    "version": 3
   },
   "file_extension": ".py",
   "mimetype": "text/x-python",
   "name": "python",
   "nbconvert_exporter": "python",
   "pygments_lexer": "ipython3",
   "version": "3.12.4"
  }
 },
 "nbformat": 4,
 "nbformat_minor": 5
}
